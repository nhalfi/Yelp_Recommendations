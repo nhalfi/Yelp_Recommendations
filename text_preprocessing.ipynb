{
 "metadata": {
  "language_info": {
   "codemirror_mode": {
    "name": "ipython",
    "version": 3
   },
   "file_extension": ".py",
   "mimetype": "text/x-python",
   "name": "python",
   "nbconvert_exporter": "python",
   "pygments_lexer": "ipython3",
   "version": "3.8.6-final"
  },
  "orig_nbformat": 2,
  "kernelspec": {
   "name": "python3",
   "display_name": "Python 3",
   "language": "python"
  }
 },
 "nbformat": 4,
 "nbformat_minor": 2,
 "cells": [
  {
   "cell_type": "code",
   "execution_count": 19,
   "metadata": {},
   "outputs": [
    {
     "output_type": "stream",
     "name": "stderr",
     "text": [
      "[nltk_data] Downloading package stopwords to\n",
      "[nltk_data]     C:\\Users\\nahalf\\AppData\\Roaming\\nltk_data...\n",
      "[nltk_data]   Unzipping corpora\\stopwords.zip.\n"
     ]
    },
    {
     "output_type": "execute_result",
     "data": {
      "text/plain": [
       "True"
      ]
     },
     "metadata": {},
     "execution_count": 19
    }
   ],
   "source": [
    "import pandas as pd\n",
    "import nltk\n",
    "nltk.download('stopwords')"
   ]
  },
  {
   "source": [
    "### Yelp Test Data"
   ],
   "cell_type": "markdown",
   "metadata": {}
  },
  {
   "cell_type": "code",
   "execution_count": 4,
   "metadata": {},
   "outputs": [
    {
     "output_type": "execute_result",
     "data": {
      "text/plain": [
       "   Unnamed: 0                photo_id             business_id  \\\n",
       "0           0  002gqWfVal1D2DT6oA-bVQ  qnZzSC4TKen19Gz9nyKCvw   \n",
       "1           1  K_9pvEE-fJQyYExAGe0X0g  qnZzSC4TKen19Gz9nyKCvw   \n",
       "2           2  002GtTSYyQ4swIZyEnfF5A  9km51KaQujxsSgdaG9gYSw   \n",
       "3           3  15q8Yg7PISk2F66b0xx5Lg  9km51KaQujxsSgdaG9gYSw   \n",
       "4           4  2ocGohLgi-ea4WGZpAKNAQ  9km51KaQujxsSgdaG9gYSw   \n",
       "\n",
       "                                             caption label  \\\n",
       "0  12oz. Boneless Ribeye | Grilled to perfection ...  food   \n",
       "1  Warm Chocolate Brownie | Melted caramel, choco...  food   \n",
       "2  The Most Yummy Tarts: Chantilly, Guava, Salted...  food   \n",
       "3  Tarts! Chocolate Haupia, Ube, and Guava Liliko...  food   \n",
       "4                                        Spam musubi  food   \n",
       "\n",
       "                  name                         address       city state  \\\n",
       "0  Texas Land & Cattle                   7779 Lyles Ln    Concord    NC   \n",
       "1  Texas Land & Cattle                   7779 Lyles Ln    Concord    NC   \n",
       "2           Paina Cafe  6870 Spring Mountain Rd, Ste G  Las Vegas    NV   \n",
       "3           Paina Cafe  6870 Spring Mountain Rd, Ste G  Las Vegas    NV   \n",
       "4           Paina Cafe  6870 Spring Mountain Rd, Ste G  Las Vegas    NV   \n",
       "\n",
       "  postal_code   latitude   longitude  stars  review_count  \\\n",
       "0       28027  35.365496  -80.712032    3.0           145   \n",
       "1       28027  35.365496  -80.712032    3.0           145   \n",
       "2       89146  36.126871 -115.242175    4.0           491   \n",
       "3       89146  36.126871 -115.242175    4.0           491   \n",
       "4       89146  36.126871 -115.242175    4.0           491   \n",
       "\n",
       "                                          categories  \n",
       "0  Comfort Food, Restaurants, Nightlife, Steakhou...  \n",
       "1  Comfort Food, Restaurants, Nightlife, Steakhou...  \n",
       "2  Restaurants, Poke, Food, Seafood, Sandwiches, ...  \n",
       "3  Restaurants, Poke, Food, Seafood, Sandwiches, ...  \n",
       "4  Restaurants, Poke, Food, Seafood, Sandwiches, ...  "
      ],
      "text/html": "<div>\n<style scoped>\n    .dataframe tbody tr th:only-of-type {\n        vertical-align: middle;\n    }\n\n    .dataframe tbody tr th {\n        vertical-align: top;\n    }\n\n    .dataframe thead th {\n        text-align: right;\n    }\n</style>\n<table border=\"1\" class=\"dataframe\">\n  <thead>\n    <tr style=\"text-align: right;\">\n      <th></th>\n      <th>Unnamed: 0</th>\n      <th>photo_id</th>\n      <th>business_id</th>\n      <th>caption</th>\n      <th>label</th>\n      <th>name</th>\n      <th>address</th>\n      <th>city</th>\n      <th>state</th>\n      <th>postal_code</th>\n      <th>latitude</th>\n      <th>longitude</th>\n      <th>stars</th>\n      <th>review_count</th>\n      <th>categories</th>\n    </tr>\n  </thead>\n  <tbody>\n    <tr>\n      <th>0</th>\n      <td>0</td>\n      <td>002gqWfVal1D2DT6oA-bVQ</td>\n      <td>qnZzSC4TKen19Gz9nyKCvw</td>\n      <td>12oz. Boneless Ribeye | Grilled to perfection ...</td>\n      <td>food</td>\n      <td>Texas Land &amp; Cattle</td>\n      <td>7779 Lyles Ln</td>\n      <td>Concord</td>\n      <td>NC</td>\n      <td>28027</td>\n      <td>35.365496</td>\n      <td>-80.712032</td>\n      <td>3.0</td>\n      <td>145</td>\n      <td>Comfort Food, Restaurants, Nightlife, Steakhou...</td>\n    </tr>\n    <tr>\n      <th>1</th>\n      <td>1</td>\n      <td>K_9pvEE-fJQyYExAGe0X0g</td>\n      <td>qnZzSC4TKen19Gz9nyKCvw</td>\n      <td>Warm Chocolate Brownie | Melted caramel, choco...</td>\n      <td>food</td>\n      <td>Texas Land &amp; Cattle</td>\n      <td>7779 Lyles Ln</td>\n      <td>Concord</td>\n      <td>NC</td>\n      <td>28027</td>\n      <td>35.365496</td>\n      <td>-80.712032</td>\n      <td>3.0</td>\n      <td>145</td>\n      <td>Comfort Food, Restaurants, Nightlife, Steakhou...</td>\n    </tr>\n    <tr>\n      <th>2</th>\n      <td>2</td>\n      <td>002GtTSYyQ4swIZyEnfF5A</td>\n      <td>9km51KaQujxsSgdaG9gYSw</td>\n      <td>The Most Yummy Tarts: Chantilly, Guava, Salted...</td>\n      <td>food</td>\n      <td>Paina Cafe</td>\n      <td>6870 Spring Mountain Rd, Ste G</td>\n      <td>Las Vegas</td>\n      <td>NV</td>\n      <td>89146</td>\n      <td>36.126871</td>\n      <td>-115.242175</td>\n      <td>4.0</td>\n      <td>491</td>\n      <td>Restaurants, Poke, Food, Seafood, Sandwiches, ...</td>\n    </tr>\n    <tr>\n      <th>3</th>\n      <td>3</td>\n      <td>15q8Yg7PISk2F66b0xx5Lg</td>\n      <td>9km51KaQujxsSgdaG9gYSw</td>\n      <td>Tarts! Chocolate Haupia, Ube, and Guava Liliko...</td>\n      <td>food</td>\n      <td>Paina Cafe</td>\n      <td>6870 Spring Mountain Rd, Ste G</td>\n      <td>Las Vegas</td>\n      <td>NV</td>\n      <td>89146</td>\n      <td>36.126871</td>\n      <td>-115.242175</td>\n      <td>4.0</td>\n      <td>491</td>\n      <td>Restaurants, Poke, Food, Seafood, Sandwiches, ...</td>\n    </tr>\n    <tr>\n      <th>4</th>\n      <td>4</td>\n      <td>2ocGohLgi-ea4WGZpAKNAQ</td>\n      <td>9km51KaQujxsSgdaG9gYSw</td>\n      <td>Spam musubi</td>\n      <td>food</td>\n      <td>Paina Cafe</td>\n      <td>6870 Spring Mountain Rd, Ste G</td>\n      <td>Las Vegas</td>\n      <td>NV</td>\n      <td>89146</td>\n      <td>36.126871</td>\n      <td>-115.242175</td>\n      <td>4.0</td>\n      <td>491</td>\n      <td>Restaurants, Poke, Food, Seafood, Sandwiches, ...</td>\n    </tr>\n  </tbody>\n</table>\n</div>"
     },
     "metadata": {},
     "execution_count": 4
    }
   ],
   "source": [
    "df = pd.read_csv(\"yelp_joined_clean.csv\")\n",
    "df.head()"
   ]
  },
  {
   "cell_type": "code",
   "execution_count": 36,
   "metadata": {},
   "outputs": [],
   "source": [
    "#create separate column for tokenized caption\n",
    "df['caption_clean'] = df['caption']\n",
    "df['caption_clean'] = df['caption_clean'].replace('[^a-zA-Z0-9 ]', '', regex=True)\n",
    "df['caption_clean'] = df['caption_clean'].str.lower()"
   ]
  },
  {
   "cell_type": "code",
   "execution_count": 15,
   "metadata": {},
   "outputs": [
    {
     "output_type": "execute_result",
     "data": {
      "text/plain": [
       "   Unnamed: 0                photo_id             business_id  \\\n",
       "0           0  002gqWfVal1D2DT6oA-bVQ  qnZzSC4TKen19Gz9nyKCvw   \n",
       "1           1  K_9pvEE-fJQyYExAGe0X0g  qnZzSC4TKen19Gz9nyKCvw   \n",
       "2           2  002GtTSYyQ4swIZyEnfF5A  9km51KaQujxsSgdaG9gYSw   \n",
       "3           3  15q8Yg7PISk2F66b0xx5Lg  9km51KaQujxsSgdaG9gYSw   \n",
       "4           4  2ocGohLgi-ea4WGZpAKNAQ  9km51KaQujxsSgdaG9gYSw   \n",
       "\n",
       "                                             caption label  \\\n",
       "0  12oz. Boneless Ribeye | Grilled to perfection ...  food   \n",
       "1  Warm Chocolate Brownie | Melted caramel, choco...  food   \n",
       "2  The Most Yummy Tarts: Chantilly, Guava, Salted...  food   \n",
       "3  Tarts! Chocolate Haupia, Ube, and Guava Liliko...  food   \n",
       "4                                        Spam musubi  food   \n",
       "\n",
       "                  name                         address       city state  \\\n",
       "0  Texas Land & Cattle                   7779 Lyles Ln    Concord    NC   \n",
       "1  Texas Land & Cattle                   7779 Lyles Ln    Concord    NC   \n",
       "2           Paina Cafe  6870 Spring Mountain Rd, Ste G  Las Vegas    NV   \n",
       "3           Paina Cafe  6870 Spring Mountain Rd, Ste G  Las Vegas    NV   \n",
       "4           Paina Cafe  6870 Spring Mountain Rd, Ste G  Las Vegas    NV   \n",
       "\n",
       "  postal_code   latitude   longitude  stars  review_count  \\\n",
       "0       28027  35.365496  -80.712032    3.0           145   \n",
       "1       28027  35.365496  -80.712032    3.0           145   \n",
       "2       89146  36.126871 -115.242175    4.0           491   \n",
       "3       89146  36.126871 -115.242175    4.0           491   \n",
       "4       89146  36.126871 -115.242175    4.0           491   \n",
       "\n",
       "                                          categories  \\\n",
       "0  Comfort Food, Restaurants, Nightlife, Steakhou...   \n",
       "1  Comfort Food, Restaurants, Nightlife, Steakhou...   \n",
       "2  Restaurants, Poke, Food, Seafood, Sandwiches, ...   \n",
       "3  Restaurants, Poke, Food, Seafood, Sandwiches, ...   \n",
       "4  Restaurants, Poke, Food, Seafood, Sandwiches, ...   \n",
       "\n",
       "                                       caption_clean  \n",
       "0  12oz boneless ribeye  grilled to perfection wi...  \n",
       "1  warm chocolate brownie  melted caramel chocola...  \n",
       "2  the most yummy tarts chantilly guava salted ca...  \n",
       "3  tarts chocolate haupia ube and guava lilikoi t...  \n",
       "4                                        spam musubi  "
      ],
      "text/html": "<div>\n<style scoped>\n    .dataframe tbody tr th:only-of-type {\n        vertical-align: middle;\n    }\n\n    .dataframe tbody tr th {\n        vertical-align: top;\n    }\n\n    .dataframe thead th {\n        text-align: right;\n    }\n</style>\n<table border=\"1\" class=\"dataframe\">\n  <thead>\n    <tr style=\"text-align: right;\">\n      <th></th>\n      <th>Unnamed: 0</th>\n      <th>photo_id</th>\n      <th>business_id</th>\n      <th>caption</th>\n      <th>label</th>\n      <th>name</th>\n      <th>address</th>\n      <th>city</th>\n      <th>state</th>\n      <th>postal_code</th>\n      <th>latitude</th>\n      <th>longitude</th>\n      <th>stars</th>\n      <th>review_count</th>\n      <th>categories</th>\n      <th>caption_clean</th>\n    </tr>\n  </thead>\n  <tbody>\n    <tr>\n      <th>0</th>\n      <td>0</td>\n      <td>002gqWfVal1D2DT6oA-bVQ</td>\n      <td>qnZzSC4TKen19Gz9nyKCvw</td>\n      <td>12oz. Boneless Ribeye | Grilled to perfection ...</td>\n      <td>food</td>\n      <td>Texas Land &amp; Cattle</td>\n      <td>7779 Lyles Ln</td>\n      <td>Concord</td>\n      <td>NC</td>\n      <td>28027</td>\n      <td>35.365496</td>\n      <td>-80.712032</td>\n      <td>3.0</td>\n      <td>145</td>\n      <td>Comfort Food, Restaurants, Nightlife, Steakhou...</td>\n      <td>12oz boneless ribeye  grilled to perfection wi...</td>\n    </tr>\n    <tr>\n      <th>1</th>\n      <td>1</td>\n      <td>K_9pvEE-fJQyYExAGe0X0g</td>\n      <td>qnZzSC4TKen19Gz9nyKCvw</td>\n      <td>Warm Chocolate Brownie | Melted caramel, choco...</td>\n      <td>food</td>\n      <td>Texas Land &amp; Cattle</td>\n      <td>7779 Lyles Ln</td>\n      <td>Concord</td>\n      <td>NC</td>\n      <td>28027</td>\n      <td>35.365496</td>\n      <td>-80.712032</td>\n      <td>3.0</td>\n      <td>145</td>\n      <td>Comfort Food, Restaurants, Nightlife, Steakhou...</td>\n      <td>warm chocolate brownie  melted caramel chocola...</td>\n    </tr>\n    <tr>\n      <th>2</th>\n      <td>2</td>\n      <td>002GtTSYyQ4swIZyEnfF5A</td>\n      <td>9km51KaQujxsSgdaG9gYSw</td>\n      <td>The Most Yummy Tarts: Chantilly, Guava, Salted...</td>\n      <td>food</td>\n      <td>Paina Cafe</td>\n      <td>6870 Spring Mountain Rd, Ste G</td>\n      <td>Las Vegas</td>\n      <td>NV</td>\n      <td>89146</td>\n      <td>36.126871</td>\n      <td>-115.242175</td>\n      <td>4.0</td>\n      <td>491</td>\n      <td>Restaurants, Poke, Food, Seafood, Sandwiches, ...</td>\n      <td>the most yummy tarts chantilly guava salted ca...</td>\n    </tr>\n    <tr>\n      <th>3</th>\n      <td>3</td>\n      <td>15q8Yg7PISk2F66b0xx5Lg</td>\n      <td>9km51KaQujxsSgdaG9gYSw</td>\n      <td>Tarts! Chocolate Haupia, Ube, and Guava Liliko...</td>\n      <td>food</td>\n      <td>Paina Cafe</td>\n      <td>6870 Spring Mountain Rd, Ste G</td>\n      <td>Las Vegas</td>\n      <td>NV</td>\n      <td>89146</td>\n      <td>36.126871</td>\n      <td>-115.242175</td>\n      <td>4.0</td>\n      <td>491</td>\n      <td>Restaurants, Poke, Food, Seafood, Sandwiches, ...</td>\n      <td>tarts chocolate haupia ube and guava lilikoi t...</td>\n    </tr>\n    <tr>\n      <th>4</th>\n      <td>4</td>\n      <td>2ocGohLgi-ea4WGZpAKNAQ</td>\n      <td>9km51KaQujxsSgdaG9gYSw</td>\n      <td>Spam musubi</td>\n      <td>food</td>\n      <td>Paina Cafe</td>\n      <td>6870 Spring Mountain Rd, Ste G</td>\n      <td>Las Vegas</td>\n      <td>NV</td>\n      <td>89146</td>\n      <td>36.126871</td>\n      <td>-115.242175</td>\n      <td>4.0</td>\n      <td>491</td>\n      <td>Restaurants, Poke, Food, Seafood, Sandwiches, ...</td>\n      <td>spam musubi</td>\n    </tr>\n  </tbody>\n</table>\n</div>"
     },
     "metadata": {},
     "execution_count": 15
    }
   ],
   "source": [
    "df.head()"
   ]
  },
  {
   "cell_type": "code",
   "execution_count": 37,
   "metadata": {},
   "outputs": [],
   "source": [
    "df['caption_clean'] = df.apply(lambda row: nltk.word_tokenize(row['caption_clean']), axis=1)"
   ]
  },
  {
   "cell_type": "code",
   "execution_count": 17,
   "metadata": {},
   "outputs": [
    {
     "output_type": "execute_result",
     "data": {
      "text/plain": [
       "   Unnamed: 0                photo_id             business_id  \\\n",
       "0           0  002gqWfVal1D2DT6oA-bVQ  qnZzSC4TKen19Gz9nyKCvw   \n",
       "1           1  K_9pvEE-fJQyYExAGe0X0g  qnZzSC4TKen19Gz9nyKCvw   \n",
       "2           2  002GtTSYyQ4swIZyEnfF5A  9km51KaQujxsSgdaG9gYSw   \n",
       "3           3  15q8Yg7PISk2F66b0xx5Lg  9km51KaQujxsSgdaG9gYSw   \n",
       "4           4  2ocGohLgi-ea4WGZpAKNAQ  9km51KaQujxsSgdaG9gYSw   \n",
       "\n",
       "                                             caption label  \\\n",
       "0  12oz. Boneless Ribeye | Grilled to perfection ...  food   \n",
       "1  Warm Chocolate Brownie | Melted caramel, choco...  food   \n",
       "2  The Most Yummy Tarts: Chantilly, Guava, Salted...  food   \n",
       "3  Tarts! Chocolate Haupia, Ube, and Guava Liliko...  food   \n",
       "4                                        Spam musubi  food   \n",
       "\n",
       "                  name                         address       city state  \\\n",
       "0  Texas Land & Cattle                   7779 Lyles Ln    Concord    NC   \n",
       "1  Texas Land & Cattle                   7779 Lyles Ln    Concord    NC   \n",
       "2           Paina Cafe  6870 Spring Mountain Rd, Ste G  Las Vegas    NV   \n",
       "3           Paina Cafe  6870 Spring Mountain Rd, Ste G  Las Vegas    NV   \n",
       "4           Paina Cafe  6870 Spring Mountain Rd, Ste G  Las Vegas    NV   \n",
       "\n",
       "  postal_code   latitude   longitude  stars  review_count  \\\n",
       "0       28027  35.365496  -80.712032    3.0           145   \n",
       "1       28027  35.365496  -80.712032    3.0           145   \n",
       "2       89146  36.126871 -115.242175    4.0           491   \n",
       "3       89146  36.126871 -115.242175    4.0           491   \n",
       "4       89146  36.126871 -115.242175    4.0           491   \n",
       "\n",
       "                                          categories  \\\n",
       "0  Comfort Food, Restaurants, Nightlife, Steakhou...   \n",
       "1  Comfort Food, Restaurants, Nightlife, Steakhou...   \n",
       "2  Restaurants, Poke, Food, Seafood, Sandwiches, ...   \n",
       "3  Restaurants, Poke, Food, Seafood, Sandwiches, ...   \n",
       "4  Restaurants, Poke, Food, Seafood, Sandwiches, ...   \n",
       "\n",
       "                                       caption_clean  \n",
       "0  [12oz, boneless, ribeye, grilled, to, perfecti...  \n",
       "1  [warm, chocolate, brownie, melted, caramel, ch...  \n",
       "2  [the, most, yummy, tarts, chantilly, guava, sa...  \n",
       "3  [tarts, chocolate, haupia, ube, and, guava, li...  \n",
       "4                                     [spam, musubi]  "
      ],
      "text/html": "<div>\n<style scoped>\n    .dataframe tbody tr th:only-of-type {\n        vertical-align: middle;\n    }\n\n    .dataframe tbody tr th {\n        vertical-align: top;\n    }\n\n    .dataframe thead th {\n        text-align: right;\n    }\n</style>\n<table border=\"1\" class=\"dataframe\">\n  <thead>\n    <tr style=\"text-align: right;\">\n      <th></th>\n      <th>Unnamed: 0</th>\n      <th>photo_id</th>\n      <th>business_id</th>\n      <th>caption</th>\n      <th>label</th>\n      <th>name</th>\n      <th>address</th>\n      <th>city</th>\n      <th>state</th>\n      <th>postal_code</th>\n      <th>latitude</th>\n      <th>longitude</th>\n      <th>stars</th>\n      <th>review_count</th>\n      <th>categories</th>\n      <th>caption_clean</th>\n    </tr>\n  </thead>\n  <tbody>\n    <tr>\n      <th>0</th>\n      <td>0</td>\n      <td>002gqWfVal1D2DT6oA-bVQ</td>\n      <td>qnZzSC4TKen19Gz9nyKCvw</td>\n      <td>12oz. Boneless Ribeye | Grilled to perfection ...</td>\n      <td>food</td>\n      <td>Texas Land &amp; Cattle</td>\n      <td>7779 Lyles Ln</td>\n      <td>Concord</td>\n      <td>NC</td>\n      <td>28027</td>\n      <td>35.365496</td>\n      <td>-80.712032</td>\n      <td>3.0</td>\n      <td>145</td>\n      <td>Comfort Food, Restaurants, Nightlife, Steakhou...</td>\n      <td>[12oz, boneless, ribeye, grilled, to, perfecti...</td>\n    </tr>\n    <tr>\n      <th>1</th>\n      <td>1</td>\n      <td>K_9pvEE-fJQyYExAGe0X0g</td>\n      <td>qnZzSC4TKen19Gz9nyKCvw</td>\n      <td>Warm Chocolate Brownie | Melted caramel, choco...</td>\n      <td>food</td>\n      <td>Texas Land &amp; Cattle</td>\n      <td>7779 Lyles Ln</td>\n      <td>Concord</td>\n      <td>NC</td>\n      <td>28027</td>\n      <td>35.365496</td>\n      <td>-80.712032</td>\n      <td>3.0</td>\n      <td>145</td>\n      <td>Comfort Food, Restaurants, Nightlife, Steakhou...</td>\n      <td>[warm, chocolate, brownie, melted, caramel, ch...</td>\n    </tr>\n    <tr>\n      <th>2</th>\n      <td>2</td>\n      <td>002GtTSYyQ4swIZyEnfF5A</td>\n      <td>9km51KaQujxsSgdaG9gYSw</td>\n      <td>The Most Yummy Tarts: Chantilly, Guava, Salted...</td>\n      <td>food</td>\n      <td>Paina Cafe</td>\n      <td>6870 Spring Mountain Rd, Ste G</td>\n      <td>Las Vegas</td>\n      <td>NV</td>\n      <td>89146</td>\n      <td>36.126871</td>\n      <td>-115.242175</td>\n      <td>4.0</td>\n      <td>491</td>\n      <td>Restaurants, Poke, Food, Seafood, Sandwiches, ...</td>\n      <td>[the, most, yummy, tarts, chantilly, guava, sa...</td>\n    </tr>\n    <tr>\n      <th>3</th>\n      <td>3</td>\n      <td>15q8Yg7PISk2F66b0xx5Lg</td>\n      <td>9km51KaQujxsSgdaG9gYSw</td>\n      <td>Tarts! Chocolate Haupia, Ube, and Guava Liliko...</td>\n      <td>food</td>\n      <td>Paina Cafe</td>\n      <td>6870 Spring Mountain Rd, Ste G</td>\n      <td>Las Vegas</td>\n      <td>NV</td>\n      <td>89146</td>\n      <td>36.126871</td>\n      <td>-115.242175</td>\n      <td>4.0</td>\n      <td>491</td>\n      <td>Restaurants, Poke, Food, Seafood, Sandwiches, ...</td>\n      <td>[tarts, chocolate, haupia, ube, and, guava, li...</td>\n    </tr>\n    <tr>\n      <th>4</th>\n      <td>4</td>\n      <td>2ocGohLgi-ea4WGZpAKNAQ</td>\n      <td>9km51KaQujxsSgdaG9gYSw</td>\n      <td>Spam musubi</td>\n      <td>food</td>\n      <td>Paina Cafe</td>\n      <td>6870 Spring Mountain Rd, Ste G</td>\n      <td>Las Vegas</td>\n      <td>NV</td>\n      <td>89146</td>\n      <td>36.126871</td>\n      <td>-115.242175</td>\n      <td>4.0</td>\n      <td>491</td>\n      <td>Restaurants, Poke, Food, Seafood, Sandwiches, ...</td>\n      <td>[spam, musubi]</td>\n    </tr>\n  </tbody>\n</table>\n</div>"
     },
     "metadata": {},
     "execution_count": 17
    }
   ],
   "source": [
    "df.head()"
   ]
  },
  {
   "cell_type": "code",
   "execution_count": 38,
   "metadata": {},
   "outputs": [
    {
     "output_type": "stream",
     "name": "stdout",
     "text": [
      "['i', 'me', 'my', 'myself', 'we', 'our', 'ours', 'ourselves', 'you', \"you're\", \"you've\", \"you'll\", \"you'd\", 'your', 'yours', 'yourself', 'yourselves', 'he', 'him', 'his', 'himself', 'she', \"she's\", 'her', 'hers', 'herself', 'it', \"it's\", 'its', 'itself', 'they', 'them', 'their', 'theirs', 'themselves', 'what', 'which', 'who', 'whom', 'this', 'that', \"that'll\", 'these', 'those', 'am', 'is', 'are', 'was', 'were', 'be', 'been', 'being', 'have', 'has', 'had', 'having', 'do', 'does', 'did', 'doing', 'a', 'an', 'the', 'and', 'but', 'if', 'or', 'because', 'as', 'until', 'while', 'of', 'at', 'by', 'for', 'with', 'about', 'against', 'between', 'into', 'through', 'during', 'before', 'after', 'above', 'below', 'to', 'from', 'up', 'down', 'in', 'out', 'on', 'off', 'over', 'under', 'again', 'further', 'then', 'once', 'here', 'there', 'when', 'where', 'why', 'how', 'all', 'any', 'both', 'each', 'few', 'more', 'most', 'other', 'some', 'such', 'no', 'nor', 'not', 'only', 'own', 'same', 'so', 'than', 'too', 'very', 's', 't', 'can', 'will', 'just', 'don', \"don't\", 'should', \"should've\", 'now', 'd', 'll', 'm', 'o', 're', 've', 'y', 'ain', 'aren', \"aren't\", 'couldn', \"couldn't\", 'didn', \"didn't\", 'doesn', \"doesn't\", 'hadn', \"hadn't\", 'hasn', \"hasn't\", 'haven', \"haven't\", 'isn', \"isn't\", 'ma', 'mightn', \"mightn't\", 'mustn', \"mustn't\", 'needn', \"needn't\", 'shan', \"shan't\", 'shouldn', \"shouldn't\", 'wasn', \"wasn't\", 'weren', \"weren't\", 'won', \"won't\", 'wouldn', \"wouldn't\"]\n"
     ]
    }
   ],
   "source": [
    "#filter out stopwords\n",
    "from nltk.corpus import stopwords\n",
    "stop_words = stopwords.words('english')\n",
    "print(stop_words)"
   ]
  },
  {
   "cell_type": "code",
   "execution_count": 41,
   "metadata": {},
   "outputs": [],
   "source": [
    "df['filtered_caption'] = df['caption_clean']\n",
    "df['filtered_caption']=df['filtered_caption'].apply(lambda x:[item for item in x if item not in stop_words])"
   ]
  },
  {
   "cell_type": "code",
   "execution_count": 42,
   "metadata": {},
   "outputs": [
    {
     "output_type": "execute_result",
     "data": {
      "text/plain": [
       "   Unnamed: 0                photo_id             business_id  \\\n",
       "0           0  002gqWfVal1D2DT6oA-bVQ  qnZzSC4TKen19Gz9nyKCvw   \n",
       "1           1  K_9pvEE-fJQyYExAGe0X0g  qnZzSC4TKen19Gz9nyKCvw   \n",
       "2           2  002GtTSYyQ4swIZyEnfF5A  9km51KaQujxsSgdaG9gYSw   \n",
       "3           3  15q8Yg7PISk2F66b0xx5Lg  9km51KaQujxsSgdaG9gYSw   \n",
       "4           4  2ocGohLgi-ea4WGZpAKNAQ  9km51KaQujxsSgdaG9gYSw   \n",
       "\n",
       "                                             caption label  \\\n",
       "0  12oz. Boneless Ribeye | Grilled to perfection ...  food   \n",
       "1  Warm Chocolate Brownie | Melted caramel, choco...  food   \n",
       "2  The Most Yummy Tarts: Chantilly, Guava, Salted...  food   \n",
       "3  Tarts! Chocolate Haupia, Ube, and Guava Liliko...  food   \n",
       "4                                        Spam musubi  food   \n",
       "\n",
       "                  name                         address       city state  \\\n",
       "0  Texas Land & Cattle                   7779 Lyles Ln    Concord    NC   \n",
       "1  Texas Land & Cattle                   7779 Lyles Ln    Concord    NC   \n",
       "2           Paina Cafe  6870 Spring Mountain Rd, Ste G  Las Vegas    NV   \n",
       "3           Paina Cafe  6870 Spring Mountain Rd, Ste G  Las Vegas    NV   \n",
       "4           Paina Cafe  6870 Spring Mountain Rd, Ste G  Las Vegas    NV   \n",
       "\n",
       "  postal_code   latitude   longitude  stars  review_count  \\\n",
       "0       28027  35.365496  -80.712032    3.0           145   \n",
       "1       28027  35.365496  -80.712032    3.0           145   \n",
       "2       89146  36.126871 -115.242175    4.0           491   \n",
       "3       89146  36.126871 -115.242175    4.0           491   \n",
       "4       89146  36.126871 -115.242175    4.0           491   \n",
       "\n",
       "                                          categories  \\\n",
       "0  Comfort Food, Restaurants, Nightlife, Steakhou...   \n",
       "1  Comfort Food, Restaurants, Nightlife, Steakhou...   \n",
       "2  Restaurants, Poke, Food, Seafood, Sandwiches, ...   \n",
       "3  Restaurants, Poke, Food, Seafood, Sandwiches, ...   \n",
       "4  Restaurants, Poke, Food, Seafood, Sandwiches, ...   \n",
       "\n",
       "                                       caption_clean  \\\n",
       "0  [12oz, boneless, ribeye, grilled, to, perfecti...   \n",
       "1  [warm, chocolate, brownie, melted, caramel, ch...   \n",
       "2  [the, most, yummy, tarts, chantilly, guava, sa...   \n",
       "3  [tarts, chocolate, haupia, ube, and, guava, li...   \n",
       "4                                     [spam, musubi]   \n",
       "\n",
       "                                    filtered_caption  \n",
       "0  [12oz, boneless, ribeye, grilled, perfection, ...  \n",
       "1  [warm, chocolate, brownie, melted, caramel, ch...  \n",
       "2  [yummy, tarts, chantilly, guava, salted, caram...  \n",
       "3  [tarts, chocolate, haupia, ube, guava, lilikoi...  \n",
       "4                                     [spam, musubi]  "
      ],
      "text/html": "<div>\n<style scoped>\n    .dataframe tbody tr th:only-of-type {\n        vertical-align: middle;\n    }\n\n    .dataframe tbody tr th {\n        vertical-align: top;\n    }\n\n    .dataframe thead th {\n        text-align: right;\n    }\n</style>\n<table border=\"1\" class=\"dataframe\">\n  <thead>\n    <tr style=\"text-align: right;\">\n      <th></th>\n      <th>Unnamed: 0</th>\n      <th>photo_id</th>\n      <th>business_id</th>\n      <th>caption</th>\n      <th>label</th>\n      <th>name</th>\n      <th>address</th>\n      <th>city</th>\n      <th>state</th>\n      <th>postal_code</th>\n      <th>latitude</th>\n      <th>longitude</th>\n      <th>stars</th>\n      <th>review_count</th>\n      <th>categories</th>\n      <th>caption_clean</th>\n      <th>filtered_caption</th>\n    </tr>\n  </thead>\n  <tbody>\n    <tr>\n      <th>0</th>\n      <td>0</td>\n      <td>002gqWfVal1D2DT6oA-bVQ</td>\n      <td>qnZzSC4TKen19Gz9nyKCvw</td>\n      <td>12oz. Boneless Ribeye | Grilled to perfection ...</td>\n      <td>food</td>\n      <td>Texas Land &amp; Cattle</td>\n      <td>7779 Lyles Ln</td>\n      <td>Concord</td>\n      <td>NC</td>\n      <td>28027</td>\n      <td>35.365496</td>\n      <td>-80.712032</td>\n      <td>3.0</td>\n      <td>145</td>\n      <td>Comfort Food, Restaurants, Nightlife, Steakhou...</td>\n      <td>[12oz, boneless, ribeye, grilled, to, perfecti...</td>\n      <td>[12oz, boneless, ribeye, grilled, perfection, ...</td>\n    </tr>\n    <tr>\n      <th>1</th>\n      <td>1</td>\n      <td>K_9pvEE-fJQyYExAGe0X0g</td>\n      <td>qnZzSC4TKen19Gz9nyKCvw</td>\n      <td>Warm Chocolate Brownie | Melted caramel, choco...</td>\n      <td>food</td>\n      <td>Texas Land &amp; Cattle</td>\n      <td>7779 Lyles Ln</td>\n      <td>Concord</td>\n      <td>NC</td>\n      <td>28027</td>\n      <td>35.365496</td>\n      <td>-80.712032</td>\n      <td>3.0</td>\n      <td>145</td>\n      <td>Comfort Food, Restaurants, Nightlife, Steakhou...</td>\n      <td>[warm, chocolate, brownie, melted, caramel, ch...</td>\n      <td>[warm, chocolate, brownie, melted, caramel, ch...</td>\n    </tr>\n    <tr>\n      <th>2</th>\n      <td>2</td>\n      <td>002GtTSYyQ4swIZyEnfF5A</td>\n      <td>9km51KaQujxsSgdaG9gYSw</td>\n      <td>The Most Yummy Tarts: Chantilly, Guava, Salted...</td>\n      <td>food</td>\n      <td>Paina Cafe</td>\n      <td>6870 Spring Mountain Rd, Ste G</td>\n      <td>Las Vegas</td>\n      <td>NV</td>\n      <td>89146</td>\n      <td>36.126871</td>\n      <td>-115.242175</td>\n      <td>4.0</td>\n      <td>491</td>\n      <td>Restaurants, Poke, Food, Seafood, Sandwiches, ...</td>\n      <td>[the, most, yummy, tarts, chantilly, guava, sa...</td>\n      <td>[yummy, tarts, chantilly, guava, salted, caram...</td>\n    </tr>\n    <tr>\n      <th>3</th>\n      <td>3</td>\n      <td>15q8Yg7PISk2F66b0xx5Lg</td>\n      <td>9km51KaQujxsSgdaG9gYSw</td>\n      <td>Tarts! Chocolate Haupia, Ube, and Guava Liliko...</td>\n      <td>food</td>\n      <td>Paina Cafe</td>\n      <td>6870 Spring Mountain Rd, Ste G</td>\n      <td>Las Vegas</td>\n      <td>NV</td>\n      <td>89146</td>\n      <td>36.126871</td>\n      <td>-115.242175</td>\n      <td>4.0</td>\n      <td>491</td>\n      <td>Restaurants, Poke, Food, Seafood, Sandwiches, ...</td>\n      <td>[tarts, chocolate, haupia, ube, and, guava, li...</td>\n      <td>[tarts, chocolate, haupia, ube, guava, lilikoi...</td>\n    </tr>\n    <tr>\n      <th>4</th>\n      <td>4</td>\n      <td>2ocGohLgi-ea4WGZpAKNAQ</td>\n      <td>9km51KaQujxsSgdaG9gYSw</td>\n      <td>Spam musubi</td>\n      <td>food</td>\n      <td>Paina Cafe</td>\n      <td>6870 Spring Mountain Rd, Ste G</td>\n      <td>Las Vegas</td>\n      <td>NV</td>\n      <td>89146</td>\n      <td>36.126871</td>\n      <td>-115.242175</td>\n      <td>4.0</td>\n      <td>491</td>\n      <td>Restaurants, Poke, Food, Seafood, Sandwiches, ...</td>\n      <td>[spam, musubi]</td>\n      <td>[spam, musubi]</td>\n    </tr>\n  </tbody>\n</table>\n</div>"
     },
     "metadata": {},
     "execution_count": 42
    }
   ],
   "source": [
    "df.head()"
   ]
  },
  {
   "cell_type": "code",
   "execution_count": 46,
   "metadata": {},
   "outputs": [],
   "source": [
    "#perform stemming to get stems of words\n",
    "from nltk.stem.porter import PorterStemmer\n",
    "porter = PorterStemmer()\n",
    "df['filtered_caption'] = df['filtered_caption'].apply(lambda x:[porter.stem(item) for item in x])"
   ]
  },
  {
   "cell_type": "code",
   "execution_count": 47,
   "metadata": {},
   "outputs": [
    {
     "output_type": "execute_result",
     "data": {
      "text/plain": [
       "   Unnamed: 0                photo_id             business_id  \\\n",
       "0           0  002gqWfVal1D2DT6oA-bVQ  qnZzSC4TKen19Gz9nyKCvw   \n",
       "1           1  K_9pvEE-fJQyYExAGe0X0g  qnZzSC4TKen19Gz9nyKCvw   \n",
       "2           2  002GtTSYyQ4swIZyEnfF5A  9km51KaQujxsSgdaG9gYSw   \n",
       "3           3  15q8Yg7PISk2F66b0xx5Lg  9km51KaQujxsSgdaG9gYSw   \n",
       "4           4  2ocGohLgi-ea4WGZpAKNAQ  9km51KaQujxsSgdaG9gYSw   \n",
       "\n",
       "                                             caption label  \\\n",
       "0  12oz. Boneless Ribeye | Grilled to perfection ...  food   \n",
       "1  Warm Chocolate Brownie | Melted caramel, choco...  food   \n",
       "2  The Most Yummy Tarts: Chantilly, Guava, Salted...  food   \n",
       "3  Tarts! Chocolate Haupia, Ube, and Guava Liliko...  food   \n",
       "4                                        Spam musubi  food   \n",
       "\n",
       "                  name                         address       city state  \\\n",
       "0  Texas Land & Cattle                   7779 Lyles Ln    Concord    NC   \n",
       "1  Texas Land & Cattle                   7779 Lyles Ln    Concord    NC   \n",
       "2           Paina Cafe  6870 Spring Mountain Rd, Ste G  Las Vegas    NV   \n",
       "3           Paina Cafe  6870 Spring Mountain Rd, Ste G  Las Vegas    NV   \n",
       "4           Paina Cafe  6870 Spring Mountain Rd, Ste G  Las Vegas    NV   \n",
       "\n",
       "  postal_code   latitude   longitude  stars  review_count  \\\n",
       "0       28027  35.365496  -80.712032    3.0           145   \n",
       "1       28027  35.365496  -80.712032    3.0           145   \n",
       "2       89146  36.126871 -115.242175    4.0           491   \n",
       "3       89146  36.126871 -115.242175    4.0           491   \n",
       "4       89146  36.126871 -115.242175    4.0           491   \n",
       "\n",
       "                                          categories  \\\n",
       "0  Comfort Food, Restaurants, Nightlife, Steakhou...   \n",
       "1  Comfort Food, Restaurants, Nightlife, Steakhou...   \n",
       "2  Restaurants, Poke, Food, Seafood, Sandwiches, ...   \n",
       "3  Restaurants, Poke, Food, Seafood, Sandwiches, ...   \n",
       "4  Restaurants, Poke, Food, Seafood, Sandwiches, ...   \n",
       "\n",
       "                                       caption_clean  \\\n",
       "0  [12oz, boneless, ribeye, grilled, to, perfecti...   \n",
       "1  [warm, chocolate, brownie, melted, caramel, ch...   \n",
       "2  [the, most, yummy, tarts, chantilly, guava, sa...   \n",
       "3  [tarts, chocolate, haupia, ube, and, guava, li...   \n",
       "4                                     [spam, musubi]   \n",
       "\n",
       "                                    filtered_caption  \n",
       "0  [12oz, boneless, ribey, grill, perfect, choic,...  \n",
       "1  [warm, chocol, browni, melt, caramel, chocol, ...  \n",
       "2  [yummi, tart, chantilli, guava, salt, caramel,...  \n",
       "3  [tart, chocol, haupia, ube, guava, lilikoi, tart]  \n",
       "4                                     [spam, musubi]  "
      ],
      "text/html": "<div>\n<style scoped>\n    .dataframe tbody tr th:only-of-type {\n        vertical-align: middle;\n    }\n\n    .dataframe tbody tr th {\n        vertical-align: top;\n    }\n\n    .dataframe thead th {\n        text-align: right;\n    }\n</style>\n<table border=\"1\" class=\"dataframe\">\n  <thead>\n    <tr style=\"text-align: right;\">\n      <th></th>\n      <th>Unnamed: 0</th>\n      <th>photo_id</th>\n      <th>business_id</th>\n      <th>caption</th>\n      <th>label</th>\n      <th>name</th>\n      <th>address</th>\n      <th>city</th>\n      <th>state</th>\n      <th>postal_code</th>\n      <th>latitude</th>\n      <th>longitude</th>\n      <th>stars</th>\n      <th>review_count</th>\n      <th>categories</th>\n      <th>caption_clean</th>\n      <th>filtered_caption</th>\n    </tr>\n  </thead>\n  <tbody>\n    <tr>\n      <th>0</th>\n      <td>0</td>\n      <td>002gqWfVal1D2DT6oA-bVQ</td>\n      <td>qnZzSC4TKen19Gz9nyKCvw</td>\n      <td>12oz. Boneless Ribeye | Grilled to perfection ...</td>\n      <td>food</td>\n      <td>Texas Land &amp; Cattle</td>\n      <td>7779 Lyles Ln</td>\n      <td>Concord</td>\n      <td>NC</td>\n      <td>28027</td>\n      <td>35.365496</td>\n      <td>-80.712032</td>\n      <td>3.0</td>\n      <td>145</td>\n      <td>Comfort Food, Restaurants, Nightlife, Steakhou...</td>\n      <td>[12oz, boneless, ribeye, grilled, to, perfecti...</td>\n      <td>[12oz, boneless, ribey, grill, perfect, choic,...</td>\n    </tr>\n    <tr>\n      <th>1</th>\n      <td>1</td>\n      <td>K_9pvEE-fJQyYExAGe0X0g</td>\n      <td>qnZzSC4TKen19Gz9nyKCvw</td>\n      <td>Warm Chocolate Brownie | Melted caramel, choco...</td>\n      <td>food</td>\n      <td>Texas Land &amp; Cattle</td>\n      <td>7779 Lyles Ln</td>\n      <td>Concord</td>\n      <td>NC</td>\n      <td>28027</td>\n      <td>35.365496</td>\n      <td>-80.712032</td>\n      <td>3.0</td>\n      <td>145</td>\n      <td>Comfort Food, Restaurants, Nightlife, Steakhou...</td>\n      <td>[warm, chocolate, brownie, melted, caramel, ch...</td>\n      <td>[warm, chocol, browni, melt, caramel, chocol, ...</td>\n    </tr>\n    <tr>\n      <th>2</th>\n      <td>2</td>\n      <td>002GtTSYyQ4swIZyEnfF5A</td>\n      <td>9km51KaQujxsSgdaG9gYSw</td>\n      <td>The Most Yummy Tarts: Chantilly, Guava, Salted...</td>\n      <td>food</td>\n      <td>Paina Cafe</td>\n      <td>6870 Spring Mountain Rd, Ste G</td>\n      <td>Las Vegas</td>\n      <td>NV</td>\n      <td>89146</td>\n      <td>36.126871</td>\n      <td>-115.242175</td>\n      <td>4.0</td>\n      <td>491</td>\n      <td>Restaurants, Poke, Food, Seafood, Sandwiches, ...</td>\n      <td>[the, most, yummy, tarts, chantilly, guava, sa...</td>\n      <td>[yummi, tart, chantilli, guava, salt, caramel,...</td>\n    </tr>\n    <tr>\n      <th>3</th>\n      <td>3</td>\n      <td>15q8Yg7PISk2F66b0xx5Lg</td>\n      <td>9km51KaQujxsSgdaG9gYSw</td>\n      <td>Tarts! Chocolate Haupia, Ube, and Guava Liliko...</td>\n      <td>food</td>\n      <td>Paina Cafe</td>\n      <td>6870 Spring Mountain Rd, Ste G</td>\n      <td>Las Vegas</td>\n      <td>NV</td>\n      <td>89146</td>\n      <td>36.126871</td>\n      <td>-115.242175</td>\n      <td>4.0</td>\n      <td>491</td>\n      <td>Restaurants, Poke, Food, Seafood, Sandwiches, ...</td>\n      <td>[tarts, chocolate, haupia, ube, and, guava, li...</td>\n      <td>[tart, chocol, haupia, ube, guava, lilikoi, tart]</td>\n    </tr>\n    <tr>\n      <th>4</th>\n      <td>4</td>\n      <td>2ocGohLgi-ea4WGZpAKNAQ</td>\n      <td>9km51KaQujxsSgdaG9gYSw</td>\n      <td>Spam musubi</td>\n      <td>food</td>\n      <td>Paina Cafe</td>\n      <td>6870 Spring Mountain Rd, Ste G</td>\n      <td>Las Vegas</td>\n      <td>NV</td>\n      <td>89146</td>\n      <td>36.126871</td>\n      <td>-115.242175</td>\n      <td>4.0</td>\n      <td>491</td>\n      <td>Restaurants, Poke, Food, Seafood, Sandwiches, ...</td>\n      <td>[spam, musubi]</td>\n      <td>[spam, musubi]</td>\n    </tr>\n  </tbody>\n</table>\n</div>"
     },
     "metadata": {},
     "execution_count": 47
    }
   ],
   "source": [
    "df.head()"
   ]
  },
  {
   "cell_type": "code",
   "execution_count": 48,
   "metadata": {},
   "outputs": [],
   "source": [
    "df.to_csv('yelp_final_tokenized.csv')"
   ]
  },
  {
   "source": [
    "### Training Data"
   ],
   "cell_type": "markdown",
   "metadata": {}
  },
  {
   "cell_type": "code",
   "execution_count": 62,
   "metadata": {},
   "outputs": [
    {
     "output_type": "execute_result",
     "data": {
      "text/plain": [
       "            fields.item_name fields.brand_name  healthy\n",
       "0         Chili Cheese Fries  Taco Bell Canada        0\n",
       "1      Steak Chalupa Supreme  Taco Bell Canada        0\n",
       "2  7-Layer Burrito - Chicken  Taco Bell Canada        0\n",
       "3   Fresco Beef Crunchy Taco  Taco Bell Canada        1\n",
       "4            Cinnamon Twists  Taco Bell Canada        1"
      ],
      "text/html": "<div>\n<style scoped>\n    .dataframe tbody tr th:only-of-type {\n        vertical-align: middle;\n    }\n\n    .dataframe tbody tr th {\n        vertical-align: top;\n    }\n\n    .dataframe thead th {\n        text-align: right;\n    }\n</style>\n<table border=\"1\" class=\"dataframe\">\n  <thead>\n    <tr style=\"text-align: right;\">\n      <th></th>\n      <th>fields.item_name</th>\n      <th>fields.brand_name</th>\n      <th>healthy</th>\n    </tr>\n  </thead>\n  <tbody>\n    <tr>\n      <th>0</th>\n      <td>Chili Cheese Fries</td>\n      <td>Taco Bell Canada</td>\n      <td>0</td>\n    </tr>\n    <tr>\n      <th>1</th>\n      <td>Steak Chalupa Supreme</td>\n      <td>Taco Bell Canada</td>\n      <td>0</td>\n    </tr>\n    <tr>\n      <th>2</th>\n      <td>7-Layer Burrito - Chicken</td>\n      <td>Taco Bell Canada</td>\n      <td>0</td>\n    </tr>\n    <tr>\n      <th>3</th>\n      <td>Fresco Beef Crunchy Taco</td>\n      <td>Taco Bell Canada</td>\n      <td>1</td>\n    </tr>\n    <tr>\n      <th>4</th>\n      <td>Cinnamon Twists</td>\n      <td>Taco Bell Canada</td>\n      <td>1</td>\n    </tr>\n  </tbody>\n</table>\n</div>"
     },
     "metadata": {},
     "execution_count": 62
    }
   ],
   "source": [
    "df_train = pd.read_csv(\"training_dataset/trainingdataset.csv\")\n",
    "df_train.head()"
   ]
  },
  {
   "cell_type": "code",
   "execution_count": 63,
   "metadata": {},
   "outputs": [],
   "source": [
    "#create separate column for tokenized caption\n",
    "df_train['clean_item_name'] = df_train['fields.item_name']\n",
    "df_train['clean_item_name'] = df_train['clean_item_name'].replace('[^a-zA-Z0-9 ]', '', regex=True)\n",
    "df_train['clean_item_name'] = df_train['clean_item_name'].str.lower()"
   ]
  },
  {
   "cell_type": "code",
   "execution_count": 64,
   "metadata": {},
   "outputs": [
    {
     "output_type": "execute_result",
     "data": {
      "text/plain": [
       "            fields.item_name fields.brand_name  healthy  \\\n",
       "0         Chili Cheese Fries  Taco Bell Canada        0   \n",
       "1      Steak Chalupa Supreme  Taco Bell Canada        0   \n",
       "2  7-Layer Burrito - Chicken  Taco Bell Canada        0   \n",
       "3   Fresco Beef Crunchy Taco  Taco Bell Canada        1   \n",
       "4            Cinnamon Twists  Taco Bell Canada        1   \n",
       "\n",
       "            clean_item_name  \n",
       "0        chili cheese fries  \n",
       "1     steak chalupa supreme  \n",
       "2   7layer burrito  chicken  \n",
       "3  fresco beef crunchy taco  \n",
       "4           cinnamon twists  "
      ],
      "text/html": "<div>\n<style scoped>\n    .dataframe tbody tr th:only-of-type {\n        vertical-align: middle;\n    }\n\n    .dataframe tbody tr th {\n        vertical-align: top;\n    }\n\n    .dataframe thead th {\n        text-align: right;\n    }\n</style>\n<table border=\"1\" class=\"dataframe\">\n  <thead>\n    <tr style=\"text-align: right;\">\n      <th></th>\n      <th>fields.item_name</th>\n      <th>fields.brand_name</th>\n      <th>healthy</th>\n      <th>clean_item_name</th>\n    </tr>\n  </thead>\n  <tbody>\n    <tr>\n      <th>0</th>\n      <td>Chili Cheese Fries</td>\n      <td>Taco Bell Canada</td>\n      <td>0</td>\n      <td>chili cheese fries</td>\n    </tr>\n    <tr>\n      <th>1</th>\n      <td>Steak Chalupa Supreme</td>\n      <td>Taco Bell Canada</td>\n      <td>0</td>\n      <td>steak chalupa supreme</td>\n    </tr>\n    <tr>\n      <th>2</th>\n      <td>7-Layer Burrito - Chicken</td>\n      <td>Taco Bell Canada</td>\n      <td>0</td>\n      <td>7layer burrito  chicken</td>\n    </tr>\n    <tr>\n      <th>3</th>\n      <td>Fresco Beef Crunchy Taco</td>\n      <td>Taco Bell Canada</td>\n      <td>1</td>\n      <td>fresco beef crunchy taco</td>\n    </tr>\n    <tr>\n      <th>4</th>\n      <td>Cinnamon Twists</td>\n      <td>Taco Bell Canada</td>\n      <td>1</td>\n      <td>cinnamon twists</td>\n    </tr>\n  </tbody>\n</table>\n</div>"
     },
     "metadata": {},
     "execution_count": 64
    }
   ],
   "source": [
    "df_train.head()"
   ]
  },
  {
   "cell_type": "code",
   "execution_count": 65,
   "metadata": {},
   "outputs": [],
   "source": [
    "#tokenize\n",
    "df_train['clean_item_name'] = df_train.apply(lambda row: nltk.word_tokenize(row['clean_item_name']), axis=1)\n",
    "#filter out stop words\n",
    "df_train['filtered_item_name'] = df_train['clean_item_name']\n",
    "df_train['filtered_item_name']=df_train['filtered_item_name'].apply(lambda x:[item for item in x if item not in stop_words])"
   ]
  },
  {
   "cell_type": "code",
   "execution_count": 67,
   "metadata": {},
   "outputs": [
    {
     "output_type": "execute_result",
     "data": {
      "text/plain": [
       "            fields.item_name fields.brand_name  healthy  \\\n",
       "0         Chili Cheese Fries  Taco Bell Canada        0   \n",
       "1      Steak Chalupa Supreme  Taco Bell Canada        0   \n",
       "2  7-Layer Burrito - Chicken  Taco Bell Canada        0   \n",
       "3   Fresco Beef Crunchy Taco  Taco Bell Canada        1   \n",
       "4            Cinnamon Twists  Taco Bell Canada        1   \n",
       "\n",
       "                 clean_item_name             filtered_item_name  \n",
       "0         [chili, cheese, fries]            [chili, chees, fri]  \n",
       "1      [steak, chalupa, supreme]       [steak, chalupa, suprem]  \n",
       "2     [7layer, burrito, chicken]     [7layer, burrito, chicken]  \n",
       "3  [fresco, beef, crunchy, taco]  [fresco, beef, crunchi, taco]  \n",
       "4             [cinnamon, twists]              [cinnamon, twist]  "
      ],
      "text/html": "<div>\n<style scoped>\n    .dataframe tbody tr th:only-of-type {\n        vertical-align: middle;\n    }\n\n    .dataframe tbody tr th {\n        vertical-align: top;\n    }\n\n    .dataframe thead th {\n        text-align: right;\n    }\n</style>\n<table border=\"1\" class=\"dataframe\">\n  <thead>\n    <tr style=\"text-align: right;\">\n      <th></th>\n      <th>fields.item_name</th>\n      <th>fields.brand_name</th>\n      <th>healthy</th>\n      <th>clean_item_name</th>\n      <th>filtered_item_name</th>\n    </tr>\n  </thead>\n  <tbody>\n    <tr>\n      <th>0</th>\n      <td>Chili Cheese Fries</td>\n      <td>Taco Bell Canada</td>\n      <td>0</td>\n      <td>[chili, cheese, fries]</td>\n      <td>[chili, chees, fri]</td>\n    </tr>\n    <tr>\n      <th>1</th>\n      <td>Steak Chalupa Supreme</td>\n      <td>Taco Bell Canada</td>\n      <td>0</td>\n      <td>[steak, chalupa, supreme]</td>\n      <td>[steak, chalupa, suprem]</td>\n    </tr>\n    <tr>\n      <th>2</th>\n      <td>7-Layer Burrito - Chicken</td>\n      <td>Taco Bell Canada</td>\n      <td>0</td>\n      <td>[7layer, burrito, chicken]</td>\n      <td>[7layer, burrito, chicken]</td>\n    </tr>\n    <tr>\n      <th>3</th>\n      <td>Fresco Beef Crunchy Taco</td>\n      <td>Taco Bell Canada</td>\n      <td>1</td>\n      <td>[fresco, beef, crunchy, taco]</td>\n      <td>[fresco, beef, crunchi, taco]</td>\n    </tr>\n    <tr>\n      <th>4</th>\n      <td>Cinnamon Twists</td>\n      <td>Taco Bell Canada</td>\n      <td>1</td>\n      <td>[cinnamon, twists]</td>\n      <td>[cinnamon, twist]</td>\n    </tr>\n  </tbody>\n</table>\n</div>"
     },
     "metadata": {},
     "execution_count": 67
    }
   ],
   "source": [
    "#apply stemming\n",
    "df_train['filtered_item_name'] = df_train['filtered_item_name'].apply(lambda x:[porter.stem(item) for item in x])\n",
    "df_train.head()"
   ]
  },
  {
   "cell_type": "code",
   "execution_count": 68,
   "metadata": {},
   "outputs": [],
   "source": [
    "df_train.to_csv('training_dataset/trainingdataset_tokenized.csv')"
   ]
  },
  {
   "cell_type": "code",
   "execution_count": null,
   "metadata": {},
   "outputs": [],
   "source": []
  }
 ]
}