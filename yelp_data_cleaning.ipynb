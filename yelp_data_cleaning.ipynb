{
 "metadata": {
  "language_info": {
   "codemirror_mode": {
    "name": "ipython",
    "version": 3
   },
   "file_extension": ".py",
   "mimetype": "text/x-python",
   "name": "python",
   "nbconvert_exporter": "python",
   "pygments_lexer": "ipython3",
   "version": "3.8.6-final"
  },
  "orig_nbformat": 2,
  "kernelspec": {
   "name": "python3",
   "display_name": "Python 3",
   "language": "python"
  }
 },
 "nbformat": 4,
 "nbformat_minor": 2,
 "cells": [
  {
   "cell_type": "code",
   "execution_count": 74,
   "metadata": {},
   "outputs": [],
   "source": [
    "import json\n",
    "import pandas as pd\n",
    "import ijson"
   ]
  },
  {
   "source": [
    "### Load data "
   ],
   "cell_type": "markdown",
   "metadata": {}
  },
  {
   "cell_type": "code",
   "execution_count": 57,
   "metadata": {},
   "outputs": [],
   "source": [
    "df_business = pd.read_json('yelp_academic_dataset_business.json',lines=True)"
   ]
  },
  {
   "cell_type": "code",
   "execution_count": 75,
   "metadata": {},
   "outputs": [],
   "source": [
    "df_photos = pd.read_json(\"photos.json\", lines=True)"
   ]
  },
  {
   "cell_type": "code",
   "execution_count": 85,
   "metadata": {},
   "outputs": [
    {
     "output_type": "execute_result",
     "data": {
      "text/plain": [
       "\"\\n#df_review = pd.read_json('yelp_academic_dataset_review.json',lines=True)\\nwith open('yelp_academic_dataset_review.json') as file:\\n    #d = json.load(file)\\n    for business_id in file:\\n        if(business_id in df_restaurants['business_id']):\\n            print(business_id)\\n\""
      ]
     },
     "metadata": {},
     "execution_count": 85
    }
   ],
   "source": [
    "\"\"\"\n",
    "#df_review = pd.read_json('yelp_academic_dataset_review.json',lines=True)\n",
    "with open('yelp_academic_dataset_review.json') as file:\n",
    "    #d = json.load(file)\n",
    "    for business_id in file:\n",
    "        if(business_id in df_restaurants['business_id']):\n",
    "            print(business_id)\n",
    "\"\"\""
   ]
  },
  {
   "cell_type": "code",
   "execution_count": null,
   "metadata": {},
   "outputs": [],
   "source": []
  },
  {
   "source": [
    "#### Clean business dataset"
   ],
   "cell_type": "markdown",
   "metadata": {}
  },
  {
   "cell_type": "code",
   "execution_count": 48,
   "metadata": {},
   "outputs": [],
   "source": [
    "#filter to restaurant businesses only\n",
    "df_business['restaurant'] = df_business['categories'].str.contains('Restaurants')\n",
    "df_restaurants = df_business[df_business['restaurant']==True]"
   ]
  },
  {
   "cell_type": "code",
   "execution_count": 51,
   "metadata": {},
   "outputs": [],
   "source": [
    "#drop unneeded columns and output to csv\n",
    "df_restaurants = df_restaurants.drop(['is_open','attributes','hours','restaurant'],axis = 1)\n",
    "df_restaurants.to_csv('yelp_business_clean.csv')"
   ]
  },
  {
   "source": [
    "Clean photo dataset"
   ],
   "cell_type": "markdown",
   "metadata": {}
  },
  {
   "cell_type": "code",
   "execution_count": 79,
   "metadata": {},
   "outputs": [],
   "source": [
    "df_photos = df_photos[df_photos['business_id'].isin(df_restaurants['business_id'])]\n",
    "df_photos = df_photos[df_photos['label']==\"food\"]"
   ]
  },
  {
   "cell_type": "code",
   "execution_count": 83,
   "metadata": {},
   "outputs": [],
   "source": [
    "df_photos.to_csv('yelp_photos_clean.csv')"
   ]
  },
  {
   "cell_type": "code",
   "execution_count": null,
   "metadata": {},
   "outputs": [],
   "source": []
  }
 ]
}