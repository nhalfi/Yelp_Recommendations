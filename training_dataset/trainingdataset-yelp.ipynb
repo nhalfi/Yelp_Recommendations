{
 "cells": [
  {
   "cell_type": "code",
   "execution_count": 1,
   "metadata": {},
   "outputs": [],
   "source": [
    "import json\n",
    "import pandas as pd "
   ]
  },
  {
   "cell_type": "code",
   "execution_count": 3,
   "metadata": {},
   "outputs": [
    {
     "data": {
      "text/plain": [
       "'/Users/sdibay/Desktop/Data Science/software-design/finalproject'"
      ]
     },
     "execution_count": 3,
     "metadata": {},
     "output_type": "execute_result"
    }
   ],
   "source": [
    "pwd"
   ]
  },
  {
   "cell_type": "code",
   "execution_count": 21,
   "metadata": {},
   "outputs": [],
   "source": [
    "with open('restaurants_items.json','r') as f:\n",
    "    data=f.read()"
   ]
  },
  {
   "cell_type": "code",
   "execution_count": 76,
   "metadata": {},
   "outputs": [],
   "source": [
    "obj = json.loads(data)"
   ]
  },
  {
   "cell_type": "code",
   "execution_count": 77,
   "metadata": {},
   "outputs": [],
   "source": [
    "df = pd.DataFrame.from_dict(obj, orient='columns')"
   ]
  },
  {
   "cell_type": "code",
   "execution_count": 80,
   "metadata": {},
   "outputs": [],
   "source": [
    "FIELDS = [\"fields.item_name\",\"fileds.brand_name\",\"fields.upc\",\"fields.nt_ingredient_statement\",\"fields.nf_calories\", \"fields.nf_calories_from_fat\",\"fields.nf_total_fat\",\"fields.nf_saturated_fat\",\"fields.nf_trans_fatty_acid\",\"fields.nf_cholesterol\",\"fields.nf_sodium\",\"fields.nf_sugars\",\"fields.nf_protein\",\"fields.nf_serving_per_container\"]\n",
    "df = pd.json_normalize(obj)"
   ]
  },
  {
   "cell_type": "code",
   "execution_count": 81,
   "metadata": {},
   "outputs": [],
   "source": [
    "df.to_csv('resturants.csv', index=False)"
   ]
  },
  {
   "cell_type": "code",
   "execution_count": 82,
   "metadata": {},
   "outputs": [],
   "source": [
    "newdf = pd.read_csv('resturants.csv')  "
   ]
  },
  {
   "cell_type": "code",
   "execution_count": 83,
   "metadata": {},
   "outputs": [],
   "source": [
    "import numpy as np\n",
    "conditions = [\n",
    "    (newdf['fields.nf_calories'] >500)|(newdf['fields.nf_calories_from_fat'] > 200)|(newdf['fields.nf_total_fat']> 20) | (newdf['fields.nf_saturated_fat'] > 8) | (newdf['fields.nf_trans_fatty_acid'] >0) | (newdf['fields.nf_cholesterol'] > 100) | (newdf['fields.nf_sodium']> 766) | (newdf['fields.nf_sugars']> 30)]\n",
    "choices = [0]\n",
    "newdf['healthy'] = np.select(conditions, choices, default=1)\n",
    "newdf.to_csv('resturantshealth.csv', index=False)"
   ]
  }
 ],
 "metadata": {
  "kernelspec": {
   "display_name": "Python 3",
   "language": "python",
   "name": "python3"
  },
  "language_info": {
   "codemirror_mode": {
    "name": "ipython",
    "version": 3
   },
   "file_extension": ".py",
   "mimetype": "text/x-python",
   "name": "python",
   "nbconvert_exporter": "python",
   "pygments_lexer": "ipython3",
   "version": "3.8.5"
  }
 },
 "nbformat": 4,
 "nbformat_minor": 4
}
